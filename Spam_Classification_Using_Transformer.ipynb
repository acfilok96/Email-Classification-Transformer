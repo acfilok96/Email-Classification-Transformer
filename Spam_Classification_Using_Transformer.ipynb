{
  "nbformat": 4,
  "nbformat_minor": 0,
  "metadata": {
    "colab": {
      "private_outputs": true,
      "provenance": [],
      "gpuType": "T4"
    },
    "kernelspec": {
      "name": "python3",
      "display_name": "Python 3"
    },
    "language_info": {
      "name": "python"
    },
    "accelerator": "GPU"
  },
  "cells": [
    {
      "cell_type": "code",
      "source": [
        "# Install \"transformer\" library\n",
        "!pip install transformers"
      ],
      "metadata": {
        "id": "CrkrpSJRvCd0"
      },
      "execution_count": null,
      "outputs": []
    },
    {
      "cell_type": "code",
      "execution_count": null,
      "metadata": {
        "id": "1hP3BaHBvASg"
      },
      "outputs": [],
      "source": [
        "# Import Libraries:\n",
        "import numpy as np\n",
        "import pandas as pd\n",
        "import matplotlib.pyplot as plt\n",
        "import tensorflow as tf\n",
        "from tensorflow.keras.layers import Input, Dense\n",
        "from transformers import BertTokenizer, TFBertForSequenceClassification"
      ]
    },
    {
      "cell_type": "code",
      "source": [
        "# Load Pre-trained BERT Model and Tokenizer\n",
        "model_name = 'bert-base-uncased'\n",
        "tokenizer = BertTokenizer.from_pretrained(model_name)\n",
        "bert_model = TFBertForSequenceClassification.from_pretrained(model_name, num_labels=2)"
      ],
      "metadata": {
        "id": "z0m0LLEqvLOR"
      },
      "execution_count": null,
      "outputs": []
    },
    {
      "cell_type": "code",
      "source": [
        "# Show the model\n",
        "bert_model.summary()"
      ],
      "metadata": {
        "id": "yWPjbrigYy5y"
      },
      "execution_count": null,
      "outputs": []
    },
    {
      "cell_type": "code",
      "source": [
        "# Load spam/ham email dataset\n",
        "data = pd.read_csv(\"/content/sample_data/email.csv\")\n",
        "data.head()"
      ],
      "metadata": {
        "id": "7ZAf2rr6xTLB"
      },
      "execution_count": null,
      "outputs": []
    },
    {
      "cell_type": "code",
      "source": [
        "# Text message\n",
        "email_texts = data.Message\n",
        "email_texts = list(email_texts)"
      ],
      "metadata": {
        "id": "F2DEQId7z-e_"
      },
      "execution_count": null,
      "outputs": []
    },
    {
      "cell_type": "code",
      "source": [
        "print(email_texts)"
      ],
      "metadata": {
        "id": "UiaB1iEBz29O"
      },
      "execution_count": null,
      "outputs": []
    },
    {
      "cell_type": "code",
      "source": [
        "# Transform the lebel by spam = 1 and ham = 0\n",
        "labels = data.Category.apply(lambda x: 1 if x==\"spam\" else 0)\n",
        "# Prepare Labels\n",
        "labels = np.array(labels)"
      ],
      "metadata": {
        "id": "cSo-ayYdVmz3"
      },
      "execution_count": null,
      "outputs": []
    },
    {
      "cell_type": "code",
      "source": [
        "print(labels)"
      ],
      "metadata": {
        "id": "xAyypWizz57U"
      },
      "execution_count": null,
      "outputs": []
    },
    {
      "cell_type": "code",
      "source": [
        "# Tokenize and Pad Data\n",
        "max_length = 128\n",
        "encoded_inputs = tokenizer(email_texts, padding=True, truncation=True, max_length=max_length, return_tensors='tf')\n",
        "print(encoded_inputs.input_ids.shape)\n",
        "print()\n",
        "print(encoded_inputs.token_type_ids.shape)\n",
        "print()\n",
        "print(encoded_inputs.attention_mask.shape)\n",
        "print()"
      ],
      "metadata": {
        "id": "Hhtf6Zs-vLHr"
      },
      "execution_count": null,
      "outputs": []
    },
    {
      "cell_type": "code",
      "source": [
        "# Split Data into Training and Validation Sets\n",
        "train_ratio = 0.8\n",
        "num_train_samples = int(len(email_texts) * train_ratio)\n",
        "\n",
        "train_inputs = {key: val[:num_train_samples] for key, val in encoded_inputs.items()}\n",
        "test_inputs = {key: val[num_train_samples:] for key, val in encoded_inputs.items()}\n",
        "train_labels = labels[:num_train_samples]\n",
        "test_labels = labels[num_train_samples:]"
      ],
      "metadata": {
        "id": "5eiLyM3OviZ8"
      },
      "execution_count": null,
      "outputs": []
    },
    {
      "cell_type": "code",
      "source": [
        "# Compile the Model\n",
        "optimizer = tf.keras.optimizers.Adam(learning_rate=1e-5)\n",
        "loss = tf.keras.losses.SparseCategoricalCrossentropy(from_logits=True)\n",
        "metric = tf.keras.metrics.SparseCategoricalAccuracy('accuracy')\n",
        "\n",
        "bert_model.compile(optimizer=optimizer, loss=loss, metrics=[metric])"
      ],
      "metadata": {
        "id": "OW7CgUkqviY0"
      },
      "execution_count": null,
      "outputs": []
    },
    {
      "cell_type": "code",
      "source": [
        "# Initialize the GPU\n",
        "import tensorflow as tf\n",
        "device_name = tf.test.gpu_device_name()\n",
        "with tf.device(device_name):\n",
        "  pass"
      ],
      "metadata": {
        "id": "wNnb61ef3MuC"
      },
      "execution_count": null,
      "outputs": []
    },
    {
      "cell_type": "code",
      "source": [
        "# Train the Model\n",
        "epochs = 20\n",
        "batch_size = 64\n",
        "\n",
        "with tf.device(device_name):\n",
        "  history = bert_model.fit(x=train_inputs, y=train_labels, validation_data=(test_inputs, test_labels),\n",
        "                           epochs=epochs,batch_size=batch_size)"
      ],
      "metadata": {
        "id": "Xwx9vfbfviW6"
      },
      "execution_count": null,
      "outputs": []
    },
    {
      "cell_type": "code",
      "source": [
        "# show the loss and accuracy through each iteration\n",
        "print(history.history['loss'])\n",
        "print(history.history['accuracy'])\n",
        "print(history.history['val_loss'])\n",
        "print(history.history['val_accuracy'])"
      ],
      "metadata": {
        "id": "_zxlsiHyvrEc"
      },
      "execution_count": null,
      "outputs": []
    },
    {
      "cell_type": "code",
      "source": [
        "# Plot function\n",
        "def plotHistory(val,nm):\n",
        "  plt.figure(figsize=(5,2))\n",
        "  plt.plot(val)\n",
        "  plt.xlabel(\"Count of Iteration\")\n",
        "  plt.ylabel(str(nm))\n",
        "  plt.title(nm)\n",
        "  plt.show()"
      ],
      "metadata": {
        "id": "_WbWwUFIvq_R"
      },
      "execution_count": null,
      "outputs": []
    },
    {
      "cell_type": "code",
      "source": [
        "# Plot loss\n",
        "plotHistory(history.history['loss'],'loss')"
      ],
      "metadata": {
        "id": "fqyH01JM7w6K"
      },
      "execution_count": null,
      "outputs": []
    },
    {
      "cell_type": "code",
      "source": [
        "# Plot accuracy\n",
        "plotHistory(history.history['accuracy'],'accuracy')"
      ],
      "metadata": {
        "id": "iaSykH1470-K"
      },
      "execution_count": null,
      "outputs": []
    },
    {
      "cell_type": "code",
      "source": [
        "# Plot validation loss\n",
        "plotHistory(history.history['val_loss'],'val_loss')"
      ],
      "metadata": {
        "id": "_0KZu62r8cvj"
      },
      "execution_count": null,
      "outputs": []
    },
    {
      "cell_type": "code",
      "source": [
        "# Plot validation accuracy\n",
        "plotHistory(history.history['val_accuracy'],'val_accuracy')"
      ],
      "metadata": {
        "id": "_fvp6kgp8W2e"
      },
      "execution_count": null,
      "outputs": []
    },
    {
      "cell_type": "code",
      "source": [
        "# Predict the bert model\n",
        "pred_lebel = bert_model.predict(test_inputs)"
      ],
      "metadata": {
        "id": "qo8Cn37yP0o9"
      },
      "execution_count": null,
      "outputs": []
    },
    {
      "cell_type": "code",
      "source": [
        "# Show the actual prediction\n",
        "print(pred_lebel)"
      ],
      "metadata": {
        "id": "j5w6OBBNP-Rh"
      },
      "execution_count": null,
      "outputs": []
    },
    {
      "cell_type": "code",
      "source": [
        "# Important part of prediction\n",
        "pred_lebel.logits"
      ],
      "metadata": {
        "id": "WZgII7rPSj1Z"
      },
      "execution_count": null,
      "outputs": []
    },
    {
      "cell_type": "code",
      "source": [
        "# Transform the prediction lebel to standard lebel\n",
        "predicted_labels = np.argmax(pred_lebel.logits, axis=-1)\n",
        "# Show shape of predicted lebel\n",
        "print(predicted_labels.shape)"
      ],
      "metadata": {
        "id": "curo60MiTXDE"
      },
      "execution_count": null,
      "outputs": []
    },
    {
      "cell_type": "code",
      "source": [
        "# show lebel\n",
        "print(predicted_labels)"
      ],
      "metadata": {
        "id": "xUPRvAkaTbgr"
      },
      "execution_count": null,
      "outputs": []
    },
    {
      "cell_type": "code",
      "source": [
        "# Import and show the result\n",
        "from sklearn.metrics import confusion_matrix, accuracy_score, ConfusionMatrixDisplay\n",
        "confusion_matrix(test_labels, predicted_labels)"
      ],
      "metadata": {
        "id": "aUDDpsoDTmYC"
      },
      "execution_count": null,
      "outputs": []
    },
    {
      "cell_type": "code",
      "source": [
        "# Plot the result\n",
        "cm = confusion_matrix(test_labels, predicted_labels, labels=[0,1])\n",
        "disp = ConfusionMatrixDisplay(confusion_matrix=cm, display_labels=[0,1])\n",
        "plt.figure(figsize=(1,1))\n",
        "disp.plot()\n",
        "plt.show()"
      ],
      "metadata": {
        "id": "dhKeNyFLUJIf"
      },
      "execution_count": null,
      "outputs": []
    },
    {
      "cell_type": "code",
      "source": [
        "# Accuracy score\n",
        "accuracy_score(test_labels, predicted_labels)"
      ],
      "metadata": {
        "id": "cBfOuClXT_G1"
      },
      "execution_count": null,
      "outputs": []
    }
  ]
}